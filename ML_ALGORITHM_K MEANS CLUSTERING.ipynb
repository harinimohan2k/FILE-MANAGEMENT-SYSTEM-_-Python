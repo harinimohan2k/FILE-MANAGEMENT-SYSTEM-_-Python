{
 "cells": [
  {
   "cell_type": "code",
   "execution_count": 1,
   "id": "661edb0c",
   "metadata": {},
   "outputs": [
    {
     "name": "stderr",
     "output_type": "stream",
     "text": [
      "C:\\Users\\kannan\\OneDrive\\Documents\\Python Scripts\\lib\\site-packages\\pandas\\core\\computation\\expressions.py:21: UserWarning: Pandas requires version '2.8.4' or newer of 'numexpr' (version '2.8.1' currently installed).\n",
      "  from pandas.core.computation.check import NUMEXPR_INSTALLED\n",
      "C:\\Users\\kannan\\OneDrive\\Documents\\Python Scripts\\lib\\site-packages\\pandas\\core\\arrays\\masked.py:60: UserWarning: Pandas requires version '1.3.6' or newer of 'bottleneck' (version '1.3.4' currently installed).\n",
      "  from pandas.core import (\n",
      "C:\\Users\\kannan\\OneDrive\\Documents\\Python Scripts\\lib\\site-packages\\scipy\\__init__.py:146: UserWarning: A NumPy version >=1.16.5 and <1.23.0 is required for this version of SciPy (detected version 1.26.4\n",
      "  warnings.warn(f\"A NumPy version >={np_minversion} and <{np_maxversion}\"\n"
     ]
    }
   ],
   "source": [
    "import numpy as np\n",
    "import pandas as pd\n",
    "import matplotlib.pyplot as plt\n",
    "from sklearn.cluster import KMeans\n",
    "%matplotlib inline"
   ]
  },
  {
   "cell_type": "code",
   "execution_count": 2,
   "id": "c7415018",
   "metadata": {},
   "outputs": [
    {
     "name": "stdout",
     "output_type": "stream",
     "text": [
      "[[-0.0740745  -1.88671075]\n",
      " [-1.90287809 -0.10123615]\n",
      " [-1.40666975 -0.14312766]\n",
      " [-1.87977299 -1.7807907 ]\n",
      " [-0.41299668 -1.96723928]\n",
      " [-1.60992898 -1.11886591]\n",
      " [-1.31387486 -0.17891203]\n",
      " [-1.53784579 -0.14913205]\n",
      " [-0.61888727 -1.27054755]\n",
      " [-1.18130017 -1.78217999]\n",
      " [-1.38729807 -1.66596049]\n",
      " [-1.60708197 -0.00919481]\n",
      " [-0.93953586 -0.95770451]\n",
      " [-1.10408526 -0.36576805]\n",
      " [-0.67558447 -1.56358188]\n",
      " [-0.54813578 -1.08331523]\n",
      " [-1.2573713  -1.2669695 ]\n",
      " [-1.71469591 -1.3143916 ]\n",
      " [-0.09587198 -1.76064011]\n",
      " [-1.49999744 -0.77395617]\n",
      " [-0.36581427 -0.27243347]\n",
      " [-1.36850742 -1.55947061]\n",
      " [-1.24951375 -1.06788979]\n",
      " [-0.95720303 -1.43310107]\n",
      " [-1.18563117 -0.43613449]\n",
      " [-1.97979379 -1.90944124]\n",
      " [-0.37358308 -1.47257202]\n",
      " [-1.77013947 -1.08476412]\n",
      " [-0.6138098  -0.05765359]\n",
      " [-0.62984642 -1.86616866]\n",
      " [-0.03333809 -1.96040581]\n",
      " [-1.87799192 -1.97467095]\n",
      " [-1.48224296 -0.03815639]\n",
      " [-0.40952753 -0.04480965]\n",
      " [-1.89037789 -0.01211566]\n",
      " [-0.43001652 -0.96290234]\n",
      " [-1.70942469 -1.44652994]\n",
      " [-0.48031476 -0.76136843]\n",
      " [-0.74695008 -1.52255968]\n",
      " [-1.53210091 -0.30282033]\n",
      " [-1.94038283 -0.22329785]\n",
      " [-0.57627806 -0.24010429]\n",
      " [-1.35278701 -1.36390762]\n",
      " [-0.15826558 -1.84632082]\n",
      " [-0.33846057 -1.65501925]\n",
      " [-0.47224042 -1.89085087]\n",
      " [-0.28320234 -0.41463326]\n",
      " [-0.73457009 -1.49838618]\n",
      " [-0.51454704 -0.70939052]\n",
      " [-0.75405946 -0.83211567]\n",
      " [-0.19506738 -1.90888327]\n",
      " [-0.97951005 -0.93176914]\n",
      " [-0.26727449 -0.01820054]\n",
      " [-0.01074998 -1.98697544]\n",
      " [-0.24909942 -0.37069808]\n",
      " [-0.38715555 -0.70116947]\n",
      " [-1.55821782 -0.7952942 ]\n",
      " [-1.63256421 -0.27301005]\n",
      " [-1.89831792 -0.96324354]\n",
      " [-1.06323062 -1.59216106]\n",
      " [-1.26394844 -0.62804578]\n",
      " [-0.56884454 -0.58408674]\n",
      " [-1.41664877 -1.0395717 ]\n",
      " [-1.0619472  -1.26118865]\n",
      " [-1.72458984 -1.93893013]\n",
      " [-1.84888355 -0.70649692]\n",
      " [-1.48873121 -0.02572198]\n",
      " [-1.51504594 -1.28763145]\n",
      " [-1.25919861 -1.44723248]\n",
      " [-1.27532119 -1.97128063]\n",
      " [-1.94558899 -0.37618774]\n",
      " [-1.53037834 -0.75620439]\n",
      " [-0.58617203 -1.04505093]\n",
      " [-1.60717986 -0.37673931]\n",
      " [-0.57459022 -1.69596473]\n",
      " [-1.77206248 -1.57169271]\n",
      " [-0.88848249 -1.54350774]\n",
      " [-0.30571336 -0.52935907]\n",
      " [-0.29977234 -0.19621833]\n",
      " [-1.58628849 -0.1689933 ]\n",
      " [-1.45477383 -1.50292032]\n",
      " [-0.57866742 -1.97436597]\n",
      " [-1.52794806 -1.41807979]\n",
      " [-1.30369376 -1.12237731]\n",
      " [-0.81134198 -1.41518169]\n",
      " [-0.11317236 -1.12781923]\n",
      " [-1.87660755 -1.85057584]\n",
      " [-0.88872667 -0.81204598]\n",
      " [-1.67787782 -1.40415393]\n",
      " [-0.12248962 -1.65753193]\n",
      " [-0.59821212 -0.54161461]\n",
      " [-0.93612385 -1.51291161]\n",
      " [-1.46408182 -1.9880363 ]\n",
      " [-0.87410857 -0.2476771 ]\n",
      " [-1.29074612 -0.365733  ]\n",
      " [-0.04161024 -1.59592989]\n",
      " [-0.76875139 -0.71519182]\n",
      " [-1.59633853 -1.61586743]\n",
      " [-0.66971279 -1.03693063]\n",
      " [-1.42517151 -0.04740085]]\n",
      "[[2.66345169 2.73319331]\n",
      " [1.26728176 2.45370132]\n",
      " [1.86336225 1.99781152]\n",
      " [2.37539507 1.48798045]\n",
      " [2.1072482  2.12683055]\n",
      " [1.24645753 2.97931901]\n",
      " [1.2504318  1.39911457]\n",
      " [1.27073736 1.78635378]\n",
      " [2.19780521 2.56230304]\n",
      " [2.36418293 1.75976745]\n",
      " [1.91862657 2.96687128]\n",
      " [1.3631068  2.6273546 ]\n",
      " [1.07137134 2.2826212 ]\n",
      " [1.56114375 1.21236386]\n",
      " [1.17779747 2.77383504]\n",
      " [1.09815702 1.86872504]\n",
      " [1.48133346 2.02903698]\n",
      " [1.87626325 2.87296556]\n",
      " [2.39039889 1.59288063]\n",
      " [1.08472302 1.58484103]\n",
      " [2.16878859 1.6248664 ]\n",
      " [2.59679134 2.84492559]\n",
      " [1.69932128 2.04499962]\n",
      " [2.91604692 1.51483586]\n",
      " [2.10885212 1.41641361]\n",
      " [1.25464758 2.94202833]\n",
      " [1.05950744 1.80296103]\n",
      " [1.22237863 2.26655888]\n",
      " [1.01725079 1.61957277]\n",
      " [2.3396888  1.12687132]\n",
      " [2.47293528 1.23864066]\n",
      " [1.38858058 1.44501188]\n",
      " [1.52330653 2.18895808]\n",
      " [2.71865076 2.57714309]\n",
      " [1.701659   2.31477396]\n",
      " [2.33610989 2.27821495]\n",
      " [2.81578704 1.4364146 ]\n",
      " [1.69019434 2.54118967]\n",
      " [1.02672164 2.93924074]\n",
      " [1.89855961 1.28509608]\n",
      " [2.50185548 1.02026633]\n",
      " [2.96084976 1.19381751]\n",
      " [1.11812571 1.66899223]\n",
      " [2.87345194 1.94357377]\n",
      " [2.6640489  2.44890292]\n",
      " [2.61718895 2.4893514 ]\n",
      " [1.99827473 2.3738736 ]\n",
      " [2.59641787 2.94937939]\n",
      " [1.7128467  2.60217394]\n",
      " [2.71811603 1.29165488]]\n",
      "[[-0.0740745  -1.88671075]\n",
      " [-1.90287809 -0.10123615]\n",
      " [-1.40666975 -0.14312766]\n",
      " [-1.87977299 -1.7807907 ]\n",
      " [-0.41299668 -1.96723928]\n",
      " [-1.60992898 -1.11886591]\n",
      " [-1.31387486 -0.17891203]\n",
      " [-1.53784579 -0.14913205]\n",
      " [-0.61888727 -1.27054755]\n",
      " [-1.18130017 -1.78217999]\n",
      " [-1.38729807 -1.66596049]\n",
      " [-1.60708197 -0.00919481]\n",
      " [-0.93953586 -0.95770451]\n",
      " [-1.10408526 -0.36576805]\n",
      " [-0.67558447 -1.56358188]\n",
      " [-0.54813578 -1.08331523]\n",
      " [-1.2573713  -1.2669695 ]\n",
      " [-1.71469591 -1.3143916 ]\n",
      " [-0.09587198 -1.76064011]\n",
      " [-1.49999744 -0.77395617]\n",
      " [-0.36581427 -0.27243347]\n",
      " [-1.36850742 -1.55947061]\n",
      " [-1.24951375 -1.06788979]\n",
      " [-0.95720303 -1.43310107]\n",
      " [-1.18563117 -0.43613449]\n",
      " [-1.97979379 -1.90944124]\n",
      " [-0.37358308 -1.47257202]\n",
      " [-1.77013947 -1.08476412]\n",
      " [-0.6138098  -0.05765359]\n",
      " [-0.62984642 -1.86616866]\n",
      " [-0.03333809 -1.96040581]\n",
      " [-1.87799192 -1.97467095]\n",
      " [-1.48224296 -0.03815639]\n",
      " [-0.40952753 -0.04480965]\n",
      " [-1.89037789 -0.01211566]\n",
      " [-0.43001652 -0.96290234]\n",
      " [-1.70942469 -1.44652994]\n",
      " [-0.48031476 -0.76136843]\n",
      " [-0.74695008 -1.52255968]\n",
      " [-1.53210091 -0.30282033]\n",
      " [-1.94038283 -0.22329785]\n",
      " [-0.57627806 -0.24010429]\n",
      " [-1.35278701 -1.36390762]\n",
      " [-0.15826558 -1.84632082]\n",
      " [-0.33846057 -1.65501925]\n",
      " [-0.47224042 -1.89085087]\n",
      " [-0.28320234 -0.41463326]\n",
      " [-0.73457009 -1.49838618]\n",
      " [-0.51454704 -0.70939052]\n",
      " [-0.75405946 -0.83211567]\n",
      " [ 2.66345169  2.73319331]\n",
      " [ 1.26728176  2.45370132]\n",
      " [ 1.86336225  1.99781152]\n",
      " [ 2.37539507  1.48798045]\n",
      " [ 2.1072482   2.12683055]\n",
      " [ 1.24645753  2.97931901]\n",
      " [ 1.2504318   1.39911457]\n",
      " [ 1.27073736  1.78635378]\n",
      " [ 2.19780521  2.56230304]\n",
      " [ 2.36418293  1.75976745]\n",
      " [ 1.91862657  2.96687128]\n",
      " [ 1.3631068   2.6273546 ]\n",
      " [ 1.07137134  2.2826212 ]\n",
      " [ 1.56114375  1.21236386]\n",
      " [ 1.17779747  2.77383504]\n",
      " [ 1.09815702  1.86872504]\n",
      " [ 1.48133346  2.02903698]\n",
      " [ 1.87626325  2.87296556]\n",
      " [ 2.39039889  1.59288063]\n",
      " [ 1.08472302  1.58484103]\n",
      " [ 2.16878859  1.6248664 ]\n",
      " [ 2.59679134  2.84492559]\n",
      " [ 1.69932128  2.04499962]\n",
      " [ 2.91604692  1.51483586]\n",
      " [ 2.10885212  1.41641361]\n",
      " [ 1.25464758  2.94202833]\n",
      " [ 1.05950744  1.80296103]\n",
      " [ 1.22237863  2.26655888]\n",
      " [ 1.01725079  1.61957277]\n",
      " [ 2.3396888   1.12687132]\n",
      " [ 2.47293528  1.23864066]\n",
      " [ 1.38858058  1.44501188]\n",
      " [ 1.52330653  2.18895808]\n",
      " [ 2.71865076  2.57714309]\n",
      " [ 1.701659    2.31477396]\n",
      " [ 2.33610989  2.27821495]\n",
      " [ 2.81578704  1.4364146 ]\n",
      " [ 1.69019434  2.54118967]\n",
      " [ 1.02672164  2.93924074]\n",
      " [ 1.89855961  1.28509608]\n",
      " [ 2.50185548  1.02026633]\n",
      " [ 2.96084976  1.19381751]\n",
      " [ 1.11812571  1.66899223]\n",
      " [ 2.87345194  1.94357377]\n",
      " [ 2.6640489   2.44890292]\n",
      " [ 2.61718895  2.4893514 ]\n",
      " [ 1.99827473  2.3738736 ]\n",
      " [ 2.59641787  2.94937939]\n",
      " [ 1.7128467   2.60217394]\n",
      " [ 2.71811603  1.29165488]]\n"
     ]
    },
    {
     "data": {
      "image/png": "[encoded data removed]",
      "text/plain": [
       "<Figure size 432x288 with 1 Axes>"
      ]
     },
     "metadata": {
      "needs_background": "light"
     },
     "output_type": "display_data"
    }
   ],
   "source": [
    "# generating two cluster and plotting\n",
    "x= -2*np.random.rand(100,2) # random.rand== get random number, 100 * 2 --- 100 array with 2 values\n",
    "print(x)\n",
    "x1=1+2*np.random.rand(50,2)\n",
    "print(x1)\n",
    "x[50:100,:]=x1\n",
    "print(x)\n",
    "plt.scatter(x[:,0],x[:,1],s=50,c='b')\n",
    "plt.show()\n",
    "# x[:,0],x[:,1]--- oth index and 1st index ---x,y"
   ]
  },
  {
   "cell_type": "code",
   "execution_count": 3,
   "id": "1d79b889",
   "metadata": {},
   "outputs": [
    {
     "data": {
      "text/plain": [
       "KMeans(n_clusters=2)"
      ]
     },
     "execution_count": 3,
     "metadata": {},
     "output_type": "execute_result"
    }
   ],
   "source": [
    "Kmean=KMeans(n_clusters=2)\n",
    "Kmean.fit(x)"
   ]
  },
  {
   "cell_type": "code",
   "execution_count": 4,
   "id": "823d9c5e",
   "metadata": {},
   "outputs": [
    {
     "data": {
      "text/plain": [
       "array([[-1.01957616, -1.04000438],\n",
       "       [ 1.90692459,  2.05057147]])"
      ]
     },
     "execution_count": 4,
     "metadata": {},
     "output_type": "execute_result"
    }
   ],
   "source": [
    "# centroid --- the centre of the data points of the specific clusters\n",
    "Kmean.cluster_centers_"
   ]
  },
  {
   "cell_type": "code",
   "execution_count": 5,
   "id": "3e64e8cc",
   "metadata": {},
   "outputs": [
    {
     "data": {
      "image/png": "[encoded data removed]",
      "text/plain": [
       "<Figure size 432x288 with 1 Axes>"
      ]
     },
     "metadata": {
      "needs_background": "light"
     },
     "output_type": "display_data"
    }
   ],
   "source": [
    "plt.scatter(x[:,0],x[:,1],s=50,c='b')\n",
    "plt.scatter(2.1171602 ,  2.13394506,s=200,c='g', marker='d')\n",
    "plt.scatter(-1.02601352, -0.89138649,s=200,c='r', marker='s')\n",
    "plt.show()\n",
    "\n",
    "# s-size\n",
    "#c-color\n",
    "#markers='s'---- square\n",
    "#markers='d'---- dimond"
   ]
  },
  {
   "cell_type": "code",
   "execution_count": 6,
   "id": "407315b7",
   "metadata": {},
   "outputs": [
    {
     "data": {
      "text/plain": [
       "array([0, 0, 0, 0, 0, 0, 0, 0, 0, 0, 0, 0, 0, 0, 0, 0, 0, 0, 0, 0, 0, 0,\n",
       "       0, 0, 0, 0, 0, 0, 0, 0, 0, 0, 0, 0, 0, 0, 0, 0, 0, 0, 0, 0, 0, 0,\n",
       "       0, 0, 0, 0, 0, 0, 1, 1, 1, 1, 1, 1, 1, 1, 1, 1, 1, 1, 1, 1, 1, 1,\n",
       "       1, 1, 1, 1, 1, 1, 1, 1, 1, 1, 1, 1, 1, 1, 1, 1, 1, 1, 1, 1, 1, 1,\n",
       "       1, 1, 1, 1, 1, 1, 1, 1, 1, 1, 1, 1])"
      ]
     },
     "execution_count": 6,
     "metadata": {},
     "output_type": "execute_result"
    }
   ],
   "source": [
    "Kmean.labels_"
   ]
  },
  {
   "cell_type": "code",
   "execution_count": null,
   "id": "a236c500",
   "metadata": {},
   "outputs": [],
   "source": []
  }
 ],
 "metadata": {
  "kernelspec": {
   "display_name": "Python 3 (ipykernel)",
   "language": "python",
   "name": "python3"
  },
  "language_info": {
   "codemirror_mode": {
    "name": "ipython",
    "version": 3
   },
   "file_extension": ".py",
   "mimetype": "text/x-python",
   "name": "python",
   "nbconvert_exporter": "python",
   "pygments_lexer": "ipython3",
   "version": "3.9.12"
  }
 },
 "nbformat": 4,
 "nbformat_minor": 5
}
