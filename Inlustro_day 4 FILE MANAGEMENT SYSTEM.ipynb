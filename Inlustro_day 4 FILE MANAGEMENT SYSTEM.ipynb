{
 "cells": [
  {
   "cell_type": "markdown",
   "id": "2b08812d-f7f8-4c98-a351-05ef928a5f8f",
   "metadata": {},
   "source": [
    "# EXCEPTION HANDLING"
   ]
  },
  {
   "cell_type": "code",
   "execution_count": 3,
   "id": "d5cf1c14-e631-49c7-914d-52d1269ae763",
   "metadata": {},
   "outputs": [
    {
     "name": "stdin",
     "output_type": "stream",
     "text": [
      "Data 3\n"
     ]
    },
    {
     "name": "stdout",
     "output_type": "stream",
     "text": [
      "3\n"
     ]
    }
   ],
   "source": [
    "# exception handling  --resolving errors-- error handling\n",
    "\n",
    "try: # error due to data\n",
    "    data = int(input('Data'))\n",
    "    print(data)\n",
    "except: # runs if it has any error in try\n",
    "    print('Enter a valid data')"
   ]
  },
  {
   "cell_type": "code",
   "execution_count": 42,
   "id": "010a63d5-df46-426e-8eb3-672dee396015",
   "metadata": {},
   "outputs": [
    {
     "name": "stdin",
     "output_type": "stream",
     "text": [
      "Data 4.5\n"
     ]
    },
    {
     "name": "stdout",
     "output_type": "stream",
     "text": [
      "Enter a valid number\n"
     ]
    }
   ],
   "source": [
    "data = input('Data')\n",
    "if data.isdigit():\n",
    "    data = int(data)\n",
    "    print(data)\n",
    "else:\n",
    "    print('Enter a valid number')"
   ]
  },
  {
   "cell_type": "code",
   "execution_count": 43,
   "id": "7e877617-4625-453f-ba17-f6ee86eb93f4",
   "metadata": {},
   "outputs": [
    {
     "name": "stdin",
     "output_type": "stream",
     "text": [
      "Data fgd\n"
     ]
    },
    {
     "name": "stdout",
     "output_type": "stream",
     "text": [
      "Enter a valid data\n"
     ]
    }
   ],
   "source": [
    "# specific handling\n",
    "\n",
    "try: \n",
    "    data = int(input('Data'))\n",
    "    print(data)\n",
    "except ValueError: # specific handling\n",
    "    print('Enter a valid data')\n",
    "except NameError: # specific handling\n",
    "    print('un defined')"
   ]
  },
  {
   "cell_type": "code",
   "execution_count": 47,
   "id": "4f579160-3c8d-40c5-a933-c82d69efa363",
   "metadata": {},
   "outputs": [
    {
     "name": "stdin",
     "output_type": "stream",
     "text": [
      "Data 67\n"
     ]
    },
    {
     "name": "stdout",
     "output_type": "stream",
     "text": [
      "67\n"
     ]
    }
   ],
   "source": [
    "#when using try we wont use else // else not used for real time data\n",
    "\n",
    "try: \n",
    "    data = int(input('Data'))\n",
    "    print(data)\n",
    "except ValueError: # specific handling\n",
    "    print('Enter a valid data')\n",
    "except NameError: # specific handling\n",
    "    print('un defined')\n",
    "except:\n",
    "    print('Expected error')\n",
    "    \n",
    "#else:\n",
    "    print('code run without any error')"
   ]
  },
  {
   "cell_type": "code",
   "execution_count": 9,
   "id": "05a56c63-3683-4d24-8601-2b5bb654df07",
   "metadata": {},
   "outputs": [
    {
     "name": "stdin",
     "output_type": "stream",
     "text": [
      "Data 45\n"
     ]
    },
    {
     "name": "stdout",
     "output_type": "stream",
     "text": [
      "45\n",
      "Executed successfully\n"
     ]
    }
   ],
   "source": [
    "try: \n",
    "    data = int(input('Data'))\n",
    "    print(data)\n",
    "except ValueError: # specific handling\n",
    "    print('Enter a valid data')\n",
    "except NameError: # specific handling\n",
    "    print('un defined')\n",
    "except:\n",
    "    print('Expected error') # or directly can print\n",
    "#print('Executed successfully')\n",
    "finally:\n",
    "    print('Executed successfully') "
   ]
  },
  {
   "cell_type": "code",
   "execution_count": 12,
   "id": "d78c7327-3630-402b-a360-57587c739055",
   "metadata": {},
   "outputs": [
    {
     "name": "stdin",
     "output_type": "stream",
     "text": [
      "Data 78\n"
     ]
    },
    {
     "name": "stdout",
     "output_type": "stream",
     "text": [
      "78\n",
      "Executed successfully\n"
     ]
    }
   ],
   "source": [
    "while True:\n",
    "  try: \n",
    "    data = int(input('Data'))\n",
    "    print(data)\n",
    "    break\n",
    "  except ValueError: # specific handling\n",
    "    print('Enter a valid data')\n",
    "  except NameError: # specific handling\n",
    "    print('un defined')\n",
    "  except:\n",
    "    print('Expected error') # or directly can print\n",
    "#print('Executed successfully')\n",
    "  finally:\n",
    "    print('Executed successfully') "
   ]
  },
  {
   "cell_type": "code",
   "execution_count": 27,
   "id": "875d518a-b69a-468b-b521-4d8f1dd3e6de",
   "metadata": {},
   "outputs": [
    {
     "name": "stdin",
     "output_type": "stream",
     "text": [
      "Enter final value 70000\n",
      "Enter begin value 43676\n",
      "Enter total years 2\n"
     ]
    },
    {
     "name": "stdout",
     "output_type": "stream",
     "text": [
      "0.26598217639857746\n"
     ]
    }
   ],
   "source": [
    "#CAGR\n",
    "\n",
    "\n",
    "def cagr():\n",
    "    try:\n",
    "        vfinal = int(input('Enter final value'))\n",
    "    except ValueError:\n",
    "        print('Enter valid final value')\n",
    "    try:\n",
    "        vbegin = int(input('Enter begin value'))\n",
    "    except ValueError:\n",
    "        print('Enter valid begin value')\n",
    "    try:\n",
    "        year = int(input('Enter total years'))\n",
    "    except :\n",
    "        print('Enter a valid year')\n",
    "    try:\n",
    "        CAGR =((vfinal/vbegin)**(1/year))-1\n",
    "        return CAGR\n",
    "    except ZeroDivisionError:\n",
    "        print('data cannot be zero')\n",
    "    except:\n",
    "        print('Unexpected error')\n",
    "while True:\n",
    "    data = cagr()\n",
    "    if data:\n",
    "        print(data)\n",
    "        break"
   ]
  },
  {
   "cell_type": "code",
   "execution_count": 28,
   "id": "d6bca3a6-83f1-4cec-9fe8-62b1f5baa037",
   "metadata": {},
   "outputs": [
    {
     "name": "stdout",
     "output_type": "stream",
     "text": [
      "<function cagr at 0x0000019C23DF37E0>\n"
     ]
    }
   ],
   "source": [
    "def cagr():\n",
    "     vfinal = int(input('Enter final value'))\n",
    "     vbegin = int(input('Enter begin value'))\n",
    "     year = int(input('Enter total years'))\n",
    "     cagr =((vfinal/vbegin)**(1/year))-1\n",
    "print(cagr)\n",
    "    "
   ]
  },
  {
   "cell_type": "code",
   "execution_count": 41,
   "id": "93ba3a88-50c3-43ff-bb07-5f1452992189",
   "metadata": {},
   "outputs": [
    {
     "name": "stdin",
     "output_type": "stream",
     "text": [
      "Enter final value 8080\n",
      "Enter begin value 7676\n",
      "enter total years 2\n"
     ]
    },
    {
     "name": "stdout",
     "output_type": "stream",
     "text": [
      "0.025978352085153977\n"
     ]
    }
   ],
   "source": [
    "def cagr():\n",
    "    while True:\n",
    "       vfinal = input('Enter final value')\n",
    "       if vfinal.isdigit():\n",
    "         vfinal = int(vfinal)\n",
    "         break\n",
    "       else:      \n",
    "         print('enter a valid final value')\n",
    "    while True:\n",
    "        vbegin = input('Enter begin value')\n",
    "        if vbegin.isdigit():\n",
    "         vbegin = int(vbegin)\n",
    "         break\n",
    "        else:\n",
    "         print('enter a valid begin value')\n",
    "    while True:\n",
    "        year = input('enter total years')\n",
    "        if year.isdigit() and year!='0':\n",
    "            year = int(year)\n",
    "            break \n",
    "        else:\n",
    "            print('enter a valid year')\n",
    "         \n",
    "    cagr =((vfinal/vbegin)**(1/year))-1\n",
    "    return cagr\n",
    "while True:\n",
    "    data = cagr()\n",
    "    if data:\n",
    "        print(data)\n",
    "        break\n",
    "    "
   ]
  },
  {
   "cell_type": "markdown",
   "id": "7cff23ca-37f6-4d29-863b-9104d9faf08b",
   "metadata": {},
   "source": [
    "# text files"
   ]
  },
  {
   "cell_type": "code",
   "execution_count": 74,
   "id": "d8e2e38d-e3dd-420e-9370-7899ec2b559c",
   "metadata": {},
   "outputs": [],
   "source": [
    "#write\n",
    "\n",
    "file = open('Data.txt','w')\n",
    "file.write('Hi iam tom\\n')\n",
    "file.write('iam from chennai')\n",
    "file.close()"
   ]
  },
  {
   "cell_type": "code",
   "execution_count": 90,
   "id": "259329b0-2e65-4f3e-b466-7519e3ce2a16",
   "metadata": {},
   "outputs": [
    {
     "name": "stdout",
     "output_type": "stream",
     "text": [
      "chennai is an head of tamilnadu\n",
      "delhi is an capital of india \n",
      "chennai is an head of tamilnadu\n",
      "delhi is an capital of india \n"
     ]
    }
   ],
   "source": [
    "# read\n",
    "\n",
    "file = open('Data.txt','r')\n",
    "print(file.read())\n",
    "file.seek(0)\n",
    "data=file.read()\n",
    "print(data)\n"
   ]
  },
  {
   "cell_type": "code",
   "execution_count": 76,
   "id": "311d989c-9de1-4b0d-a24e-f54375993a14",
   "metadata": {},
   "outputs": [],
   "source": [
    "file = open('Data.txt','a')\n",
    "file.write('my friend was tim')\n",
    "file.close()"
   ]
  },
  {
   "cell_type": "code",
   "execution_count": 77,
   "id": "08f0946b-d56d-4832-83c7-d0add0e9407c",
   "metadata": {},
   "outputs": [
    {
     "name": "stdout",
     "output_type": "stream",
     "text": [
      "Hi iam tom\n",
      "iam from chennaimy friend was tim\n"
     ]
    }
   ],
   "source": [
    "# append\n",
    "\n",
    "#w+,r+\n",
    "file = open('Data.txt','a+')\n",
    "file.seek(0)\n",
    "print(file.read())\n",
    "file.write('my friend was tim')\n",
    "file.close()"
   ]
  },
  {
   "cell_type": "code",
   "execution_count": 78,
   "id": "27258296-2c9c-49e4-8280-2d0c7d599483",
   "metadata": {},
   "outputs": [
    {
     "name": "stdout",
     "output_type": "stream",
     "text": [
      "['.arduinoIDE', '.cache', '.idlerc', '.ipynb_checkpoints', '.ipython', '.jupyter', '.matplotlib', '.packettracer', '.RData', '.Rhistory', '.VirtualBox', '.vscode', '.zenmap', '3D Objects', 'AppData', 'Application Data', 'Cisco Packet Tracer 6.3', 'Contacts', 'Cookies', 'Data.txt', 'Desktop', 'Documents', 'Downloads', 'Favorites', 'InLUSTRO -DAY1.ipynb', 'InLUSTRO_DAY 2.ipynb', 'InLUSTRO_DAY 3.ipynb', 'Inlustro_day 4.ipynb', 'IntelGraphicsProfiles', 'Links', 'Local Settings', 'Music', 'My Documents', 'NetHood', 'NTUSER.DAT', 'ntuser.dat.LOG1', 'ntuser.dat.LOG2', 'NTUSER.DAT{2b86f1c0-64ef-11ee-8db4-74563c7e7f55}.TM.blf', 'NTUSER.DAT{2b86f1c0-64ef-11ee-8db4-74563c7e7f55}.TMContainer00000000000000000001.regtrans-ms', 'NTUSER.DAT{2b86f1c0-64ef-11ee-8db4-74563c7e7f55}.TMContainer00000000000000000002.regtrans-ms', 'NTUSER.DAT{7c9e3e15-6813-11ee-8dc1-74563c81ddd0}.TM.blf', 'NTUSER.DAT{7c9e3e15-6813-11ee-8dc1-74563c81ddd0}.TMContainer00000000000000000001.regtrans-ms', 'NTUSER.DAT{7c9e3e15-6813-11ee-8dc1-74563c81ddd0}.TMContainer00000000000000000002.regtrans-ms', 'ntuser.ini', 'OneDrive', 'Pictures', 'PrintHood', 'PycharmProjects', 'Recent', 'Saved Games', 'Searches', 'SendTo', 'Start Menu', 'Templates', 'Untitled Folder', 'Untitled.ipynb', 'Untitled1.ipynb', 'Videos', 'VirtualBox VMs']\n"
     ]
    }
   ],
   "source": [
    "#text file folders\n",
    "import os\n",
    "\n",
    "data =os.listdir()\n",
    "print(data)"
   ]
  },
  {
   "cell_type": "code",
   "execution_count": 79,
   "id": "519341cc-b57f-430d-a0cb-2c2901315c9b",
   "metadata": {},
   "outputs": [],
   "source": [
    "file = open('Data.txt','w')\n",
    "file.write('Hi iam tom\\n')\n",
    "file.write('iam from chennai')\n",
    "file.close()"
   ]
  },
  {
   "cell_type": "code",
   "execution_count": 80,
   "id": "da5255a2-a5e6-4203-a178-4076157a5ef8",
   "metadata": {},
   "outputs": [
    {
     "name": "stdout",
     "output_type": "stream",
     "text": [
      "Hi iam tom\n",
      "iam from chennai\n",
      "Hi iam tom\n",
      "iam from chennai\n",
      "<_io.TextIOWrapper name='Data.txt' mode='r' encoding='cp1252'>\n"
     ]
    }
   ],
   "source": [
    "file = open('Data.txt','r')\n",
    "print(file.read())\n",
    "file.seek(0)\n",
    "data=file.read()\n",
    "print(data)\n",
    "if 'file = i':\n",
    "  print(file)"
   ]
  },
  {
   "cell_type": "code",
   "execution_count": 88,
   "id": "bfbecf97-fad4-4e1a-9124-6599ac2bba3b",
   "metadata": {},
   "outputs": [],
   "source": [
    "file = open('data.txt','w')\n",
    "file.write('chennai is an head of tamilnadu\\n')\n",
    "file.write('delhi is an capital of india ')\n",
    "file.close()"
   ]
  },
  {
   "cell_type": "code",
   "execution_count": 94,
   "id": "305944ef-437d-4310-a9ed-48be8f111a95",
   "metadata": {},
   "outputs": [
    {
     "name": "stdout",
     "output_type": "stream",
     "text": [
      "chennai is an head of tamilnadu\n",
      "delhi is an capital of india \n",
      "chennai is an head of tamilnadu\n",
      "delhi is an capital of india \n",
      "<_io.TextIOWrapper name='Data.txt' mode='r' encoding='cp1252'>\n"
     ]
    }
   ],
   "source": [
    "file = open('Data.txt','r')\n",
    "print(file.read())\n",
    "file.seek(0)\n",
    "data=file.read()\n",
    "print(data)\n",
    "if 'file = i':\n",
    "  print(file)"
   ]
  },
  {
   "cell_type": "code",
   "execution_count": 106,
   "id": "0aeb2d10-0521-42b0-b02f-4524e375916a",
   "metadata": {},
   "outputs": [
    {
     "name": "stdin",
     "output_type": "stream",
     "text": [
      "Enter 1 to write,2 to read,3 to append 3\n"
     ]
    },
    {
     "name": "stdout",
     "output_type": "stream",
     "text": [
      "['Data.txt']\n"
     ]
    },
    {
     "name": "stdin",
     "output_type": "stream",
     "text": [
      "Enter file name Data.txt\n",
      "Enter data to write heloooooooo makalaeeeee\n"
     ]
    }
   ],
   "source": [
    "# file management system\n",
    "\n",
    "import os\n",
    "sample = input('Enter 1 to write,2 to read,3 to append')\n",
    "if sample =='1':\n",
    "    allife =os.listdir()\n",
    "    while True:\n",
    "        print([x for x in allfile if x.endswith('.txt')])\n",
    "        fname = input('Enter file name')\n",
    "        if fname in allfile:\n",
    "            print('file already exists')\n",
    "        else:\n",
    "            data = input('Enter data to write')\n",
    "            file = open(fname,'w')\n",
    "            file.write(data)\n",
    "            file.close()\n",
    "            break\n",
    "elif sample =='2':\n",
    "    alllife = os.listdir()\n",
    "    while True:\n",
    "        print([x for x in alllife if x.endswith('.txt')])\n",
    "        fname = input('Enter file name')\n",
    "        if fname in allfile:\n",
    "            file = open(fname,'r')\n",
    "            print(file.read())\n",
    "            break\n",
    "        else:\n",
    "            print('No such file exists')\n",
    "elif sample == '3':\n",
    "     allfile = os.listdir()\n",
    "     while True:\n",
    "        print([x for x in allife if x.endswith('.txt')])\n",
    "        fname = input('Enter file name')\n",
    "        if fname in allfile:\n",
    "              data = input('Enter data to write')\n",
    "              file = open(fname,'a')\n",
    "              file.write(data)\n",
    "              file.close()\n",
    "              break\n",
    "        else:\n",
    "              print('No such file exists')"
   ]
  },
  {
   "cell_type": "code",
   "execution_count": null,
   "id": "d35197a3-a65e-4569-b751-fbdfd339d65c",
   "metadata": {},
   "outputs": [],
   "source": []
  }
 ],
 "metadata": {
  "kernelspec": {
   "display_name": "Python 3 (ipykernel)",
   "language": "python",
   "name": "python3"
  },
  "language_info": {
   "codemirror_mode": {
    "name": "ipython",
    "version": 3
   },
   "file_extension": ".py",
   "mimetype": "text/x-python",
   "name": "python",
   "nbconvert_exporter": "python",
   "pygments_lexer": "ipython3",
   "version": "3.12.0"
  }
 },
 "nbformat": 4,
 "nbformat_minor": 5
}
